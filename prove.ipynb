{
 "cells": [
  {
   "cell_type": "code",
   "execution_count": 15,
   "metadata": {},
   "outputs": [],
   "source": [
    "from preprocessing import *\n",
    "import preprocessing as prp\n",
    "import pandas as pd"
   ]
  },
  {
   "cell_type": "code",
   "execution_count": 4,
   "metadata": {},
   "outputs": [
    {
     "data": {
      "text/plain": [
       "(1749494, 57)"
      ]
     },
     "execution_count": 4,
     "metadata": {},
     "output_type": "execute_result"
    }
   ],
   "source": [
    "dataframe = pd.read_csv(r\"C:\\Users\\carla\\OneDrive\\Documenti\\GitHub\\Unsupervised_Anomaly_Detection_thesis\\Data\\train_features.csv\")\n",
    "dataframe.shape"
   ]
  },
  {
   "cell_type": "code",
   "execution_count": 5,
   "metadata": {},
   "outputs": [
    {
     "data": {
      "text/html": [
       "<div>\n",
       "<style scoped>\n",
       "    .dataframe tbody tr th:only-of-type {\n",
       "        vertical-align: middle;\n",
       "    }\n",
       "\n",
       "    .dataframe tbody tr th {\n",
       "        vertical-align: top;\n",
       "    }\n",
       "\n",
       "    .dataframe thead th {\n",
       "        text-align: right;\n",
       "    }\n",
       "</style>\n",
       "<table border=\"1\" class=\"dataframe\">\n",
       "  <thead>\n",
       "    <tr style=\"text-align: right;\">\n",
       "      <th></th>\n",
       "      <th>building_id</th>\n",
       "      <th>primary_use</th>\n",
       "      <th>timestamp</th>\n",
       "      <th>meter_reading</th>\n",
       "      <th>sea_level_pressure</th>\n",
       "      <th>is_holiday</th>\n",
       "      <th>anomaly</th>\n",
       "    </tr>\n",
       "  </thead>\n",
       "  <tbody>\n",
       "    <tr>\n",
       "      <th>0</th>\n",
       "      <td>1</td>\n",
       "      <td>Education</td>\n",
       "      <td>2016-01-01 00:00:00</td>\n",
       "      <td>NaN</td>\n",
       "      <td>967.2</td>\n",
       "      <td>1</td>\n",
       "      <td>0</td>\n",
       "    </tr>\n",
       "    <tr>\n",
       "      <th>1</th>\n",
       "      <td>32</td>\n",
       "      <td>Office</td>\n",
       "      <td>2016-01-01 00:00:00</td>\n",
       "      <td>NaN</td>\n",
       "      <td>967.2</td>\n",
       "      <td>1</td>\n",
       "      <td>0</td>\n",
       "    </tr>\n",
       "    <tr>\n",
       "      <th>2</th>\n",
       "      <td>41</td>\n",
       "      <td>Office</td>\n",
       "      <td>2016-01-01 00:00:00</td>\n",
       "      <td>NaN</td>\n",
       "      <td>967.2</td>\n",
       "      <td>1</td>\n",
       "      <td>0</td>\n",
       "    </tr>\n",
       "    <tr>\n",
       "      <th>3</th>\n",
       "      <td>55</td>\n",
       "      <td>Office</td>\n",
       "      <td>2016-01-01 00:00:00</td>\n",
       "      <td>NaN</td>\n",
       "      <td>967.2</td>\n",
       "      <td>1</td>\n",
       "      <td>0</td>\n",
       "    </tr>\n",
       "    <tr>\n",
       "      <th>4</th>\n",
       "      <td>69</td>\n",
       "      <td>Parking</td>\n",
       "      <td>2016-01-01 00:00:00</td>\n",
       "      <td>NaN</td>\n",
       "      <td>967.2</td>\n",
       "      <td>1</td>\n",
       "      <td>0</td>\n",
       "    </tr>\n",
       "    <tr>\n",
       "      <th>...</th>\n",
       "      <td>...</td>\n",
       "      <td>...</td>\n",
       "      <td>...</td>\n",
       "      <td>...</td>\n",
       "      <td>...</td>\n",
       "      <td>...</td>\n",
       "      <td>...</td>\n",
       "    </tr>\n",
       "    <tr>\n",
       "      <th>1749489</th>\n",
       "      <td>1316</td>\n",
       "      <td>Entertainment/public assembly</td>\n",
       "      <td>2016-12-31 23:00:00</td>\n",
       "      <td>38.844</td>\n",
       "      <td>967.2</td>\n",
       "      <td>0</td>\n",
       "      <td>0</td>\n",
       "    </tr>\n",
       "    <tr>\n",
       "      <th>1749490</th>\n",
       "      <td>1318</td>\n",
       "      <td>Entertainment/public assembly</td>\n",
       "      <td>2016-12-31 23:00:00</td>\n",
       "      <td>202.893</td>\n",
       "      <td>967.2</td>\n",
       "      <td>0</td>\n",
       "      <td>0</td>\n",
       "    </tr>\n",
       "    <tr>\n",
       "      <th>1749491</th>\n",
       "      <td>1319</td>\n",
       "      <td>Entertainment/public assembly</td>\n",
       "      <td>2016-12-31 23:00:00</td>\n",
       "      <td>NaN</td>\n",
       "      <td>967.2</td>\n",
       "      <td>0</td>\n",
       "      <td>0</td>\n",
       "    </tr>\n",
       "    <tr>\n",
       "      <th>1749492</th>\n",
       "      <td>1323</td>\n",
       "      <td>Office</td>\n",
       "      <td>2016-12-31 23:00:00</td>\n",
       "      <td>172.000</td>\n",
       "      <td>967.2</td>\n",
       "      <td>0</td>\n",
       "      <td>0</td>\n",
       "    </tr>\n",
       "    <tr>\n",
       "      <th>1749493</th>\n",
       "      <td>1353</td>\n",
       "      <td>Religious worship</td>\n",
       "      <td>2016-12-31 23:00:00</td>\n",
       "      <td>2.400</td>\n",
       "      <td>967.2</td>\n",
       "      <td>0</td>\n",
       "      <td>0</td>\n",
       "    </tr>\n",
       "  </tbody>\n",
       "</table>\n",
       "<p>1749494 rows × 7 columns</p>\n",
       "</div>"
      ],
      "text/plain": [
       "         building_id                    primary_use            timestamp  \\\n",
       "0                  1                      Education  2016-01-01 00:00:00   \n",
       "1                 32                         Office  2016-01-01 00:00:00   \n",
       "2                 41                         Office  2016-01-01 00:00:00   \n",
       "3                 55                         Office  2016-01-01 00:00:00   \n",
       "4                 69                        Parking  2016-01-01 00:00:00   \n",
       "...              ...                            ...                  ...   \n",
       "1749489         1316  Entertainment/public assembly  2016-12-31 23:00:00   \n",
       "1749490         1318  Entertainment/public assembly  2016-12-31 23:00:00   \n",
       "1749491         1319  Entertainment/public assembly  2016-12-31 23:00:00   \n",
       "1749492         1323                         Office  2016-12-31 23:00:00   \n",
       "1749493         1353              Religious worship  2016-12-31 23:00:00   \n",
       "\n",
       "         meter_reading  sea_level_pressure  is_holiday  anomaly  \n",
       "0                  NaN               967.2           1        0  \n",
       "1                  NaN               967.2           1        0  \n",
       "2                  NaN               967.2           1        0  \n",
       "3                  NaN               967.2           1        0  \n",
       "4                  NaN               967.2           1        0  \n",
       "...                ...                 ...         ...      ...  \n",
       "1749489         38.844               967.2           0        0  \n",
       "1749490        202.893               967.2           0        0  \n",
       "1749491            NaN               967.2           0        0  \n",
       "1749492        172.000               967.2           0        0  \n",
       "1749493          2.400               967.2           0        0  \n",
       "\n",
       "[1749494 rows x 7 columns]"
      ]
     },
     "execution_count": 5,
     "metadata": {},
     "output_type": "execute_result"
    }
   ],
   "source": [
    "df=dataframe[['building_id','primary_use', 'timestamp', 'meter_reading', 'sea_level_pressure', 'is_holiday','anomaly']]\n",
    "df"
   ]
  },
  {
   "cell_type": "code",
   "execution_count": 18,
   "metadata": {},
   "outputs": [
    {
     "ename": "ImportError",
     "evalue": "cannot import name 'impute_nulls' from 'preprocessing' (c:\\Users\\carla\\OneDrive\\Documenti\\GitHub\\Unsupervised_Anomaly_Detection_thesis\\preprocessing.py)",
     "output_type": "error",
     "traceback": [
      "\u001b[1;31m---------------------------------------------------------------------------\u001b[0m",
      "\u001b[1;31mImportError\u001b[0m                               Traceback (most recent call last)",
      "Cell \u001b[1;32mIn [18], line 1\u001b[0m\n\u001b[1;32m----> 1\u001b[0m \u001b[38;5;28;01mfrom\u001b[39;00m \u001b[38;5;21;01mpreprocessing\u001b[39;00m \u001b[38;5;28;01mimport\u001b[39;00m impute_nulls\n",
      "\u001b[1;31mImportError\u001b[0m: cannot import name 'impute_nulls' from 'preprocessing' (c:\\Users\\carla\\OneDrive\\Documenti\\GitHub\\Unsupervised_Anomaly_Detection_thesis\\preprocessing.py)"
     ]
    }
   ],
   "source": [
    "from preprocessing import impute_nulls"
   ]
  },
  {
   "cell_type": "code",
   "execution_count": 19,
   "metadata": {},
   "outputs": [
    {
     "ename": "NameError",
     "evalue": "name 'impute_nulls' is not defined",
     "output_type": "error",
     "traceback": [
      "\u001b[1;31m---------------------------------------------------------------------------\u001b[0m",
      "\u001b[1;31mNameError\u001b[0m                                 Traceback (most recent call last)",
      "Cell \u001b[1;32mIn [19], line 1\u001b[0m\n\u001b[1;32m----> 1\u001b[0m imputed_df \u001b[38;5;241m=\u001b[39m impute_nulls(df)\n\u001b[0;32m      2\u001b[0m imputed_df\n",
      "\u001b[1;31mNameError\u001b[0m: name 'impute_nulls' is not defined"
     ]
    }
   ],
   "source": [
    "imputed_df = impute_nulls(df)\n",
    "imputed_df"
   ]
  },
  {
   "cell_type": "code",
   "execution_count": null,
   "metadata": {},
   "outputs": [],
   "source": []
  }
 ],
 "metadata": {
  "kernelspec": {
   "display_name": "Python 3",
   "language": "python",
   "name": "python3"
  },
  "language_info": {
   "codemirror_mode": {
    "name": "ipython",
    "version": 3
   },
   "file_extension": ".py",
   "mimetype": "text/x-python",
   "name": "python",
   "nbconvert_exporter": "python",
   "pygments_lexer": "ipython3",
   "version": "3.10.7"
  }
 },
 "nbformat": 4,
 "nbformat_minor": 2
}
