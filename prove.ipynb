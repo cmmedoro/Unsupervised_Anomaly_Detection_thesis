{
 "cells": [
  {
   "cell_type": "code",
   "execution_count": 2,
   "metadata": {},
   "outputs": [],
   "source": [
    "import numpy as np"
   ]
  },
  {
   "cell_type": "code",
   "execution_count": 3,
   "metadata": {},
   "outputs": [],
   "source": [
    "import torch"
   ]
  },
  {
   "cell_type": "code",
   "execution_count": 4,
   "metadata": {},
   "outputs": [],
   "source": [
    "import torch"
   ]
  },
  {
   "cell_type": "code",
   "execution_count": 4,
   "metadata": {},
   "outputs": [],
   "source": [
    "input1 = np.random.random((128, 72, 1))"
   ]
  },
  {
   "cell_type": "code",
   "execution_count": 6,
   "metadata": {},
   "outputs": [],
   "source": [
    "input = torch.tensor(input1)"
   ]
  },
  {
   "cell_type": "code",
   "execution_count": 7,
   "metadata": {},
   "outputs": [],
   "source": [
    "import torch.nn as nn"
   ]
  },
  {
   "cell_type": "code",
   "execution_count": 8,
   "metadata": {},
   "outputs": [],
   "source": [
    "class Encoder(nn.Module):\n",
    "  def __init__(self, in_size, latent_size, latent_dim): \n",
    "    \"\"\"\n",
    "    in_size: number of features of the input dataset\n",
    "    latent_size: number of cells of the lstm (for example, 32)\n",
    "    latent_dim: dimension of the variational layer\n",
    "    \"\"\"\n",
    "    super().__init__()\n",
    "    self.lstm = nn.LSTM(input_size=in_size, hidden_size=latent_size, num_layers=1, batch_first=True\n",
    "            # input and output tensors are provided as (batch, seq_len, feature(size))\n",
    "        )\n",
    "    self.dropout = nn.Dropout(0.2)\n",
    "\n",
    "  def forward(self, w):\n",
    "    #print(\"Input E: \", w.size())\n",
    "    z, (h_n, c_n) = self.lstm(w)\n",
    "    print(\"Z: \", z.size())\n",
    "    print(\"H_n: \", h_n.size())\n",
    "    print(c_n.size())\n",
    "    z = self.dropout(z)\n",
    "    h_n = self.dropout(h_n)\n",
    "    return z, h_n"
   ]
  },
  {
   "cell_type": "code",
   "execution_count": 9,
   "metadata": {},
   "outputs": [],
   "source": [
    "encoder = Encoder(1, 32, 32)"
   ]
  },
  {
   "cell_type": "code",
   "execution_count": 10,
   "metadata": {},
   "outputs": [],
   "source": [
    "input = input.float()"
   ]
  },
  {
   "cell_type": "code",
   "execution_count": 11,
   "metadata": {},
   "outputs": [
    {
     "name": "stdout",
     "output_type": "stream",
     "text": [
      "Z:  torch.Size([128, 72, 32])\n",
      "H_n:  torch.Size([1, 128, 32])\n",
      "torch.Size([1, 128, 32])\n"
     ]
    }
   ],
   "source": [
    "z, h_n = encoder(input)"
   ]
  },
  {
   "cell_type": "code",
   "execution_count": 12,
   "metadata": {},
   "outputs": [
    {
     "data": {
      "text/plain": [
       "tensor([[[-1.7918e-02,  5.5720e-02, -1.4896e-02,  ..., -9.2130e-02,\n",
       "          -5.4769e-02, -5.6465e-03],\n",
       "         [-2.1083e-02,  9.8668e-02, -2.1174e-02,  ..., -1.3914e-01,\n",
       "          -8.7341e-02, -4.4173e-03],\n",
       "         [-1.9400e-02,  1.2799e-01, -2.0920e-02,  ..., -1.6379e-01,\n",
       "          -1.0843e-01,  3.1948e-04],\n",
       "         ...,\n",
       "         [-0.0000e+00,  0.0000e+00, -2.6844e-02,  ..., -1.7919e-01,\n",
       "          -1.2706e-01,  0.0000e+00],\n",
       "         [-4.0339e-02,  1.5022e-01, -3.6801e-02,  ..., -1.7293e-01,\n",
       "          -0.0000e+00, -4.7321e-03],\n",
       "         [-3.2187e-02,  1.5530e-01, -2.8467e-02,  ..., -1.7912e-01,\n",
       "          -1.2460e-01,  1.5010e-03]],\n",
       "\n",
       "        [[-4.9737e-03,  0.0000e+00, -1.6021e-03,  ..., -1.0318e-01,\n",
       "          -6.6787e-02,  4.4950e-03],\n",
       "         [-2.8212e-03,  1.1505e-01, -2.3661e-03,  ..., -1.5286e-01,\n",
       "          -1.0596e-01,  1.0311e-02],\n",
       "         [-3.5508e-04,  1.4510e-01, -9.5958e-04,  ..., -1.7647e-01,\n",
       "          -1.2937e-01,  1.6201e-02],\n",
       "         ...,\n",
       "         [-4.6965e-02,  1.4403e-01, -0.0000e+00,  ..., -1.6887e-01,\n",
       "          -0.0000e+00, -1.3094e-02],\n",
       "         [-2.5525e-02,  1.5842e-01, -2.3266e-02,  ..., -1.8363e-01,\n",
       "          -1.2900e-01,  4.7722e-03],\n",
       "         [-4.6959e-02,  1.4380e-01, -4.6481e-02,  ..., -1.6948e-01,\n",
       "          -1.0510e-01, -1.3537e-02]],\n",
       "\n",
       "        [[-1.5102e-02,  5.8247e-02, -1.1951e-02,  ..., -0.0000e+00,\n",
       "          -5.7397e-02, -3.3899e-03],\n",
       "         [-1.0485e-02,  1.0765e-01, -1.0302e-02,  ..., -0.0000e+00,\n",
       "          -0.0000e+00,  4.0748e-03],\n",
       "         [-3.5468e-02,  1.1574e-01, -0.0000e+00,  ..., -1.5173e-01,\n",
       "          -9.2027e-02, -0.0000e+00],\n",
       "         ...,\n",
       "         [-6.2182e-02,  1.2752e-01, -0.0000e+00,  ..., -1.5947e-01,\n",
       "          -8.6872e-02, -2.9042e-02],\n",
       "         [-6.0402e-02,  1.2829e-01, -6.1632e-02,  ..., -1.6157e-01,\n",
       "          -8.8086e-02, -2.7828e-02],\n",
       "         [-4.0035e-02,  1.4474e-01, -4.0572e-02,  ..., -1.7643e-01,\n",
       "          -1.0820e-01, -1.0925e-02]],\n",
       "\n",
       "        ...,\n",
       "\n",
       "        [[-1.9481e-02,  5.4298e-02, -1.6544e-02,  ..., -9.0724e-02,\n",
       "          -5.3306e-02, -6.9124e-03],\n",
       "         [-3.8098e-02,  8.3504e-02, -3.9303e-02,  ..., -1.2519e-01,\n",
       "          -7.0259e-02, -0.0000e+00],\n",
       "         [-4.0307e-02,  1.0868e-01, -4.3052e-02,  ..., -0.0000e+00,\n",
       "          -8.6515e-02, -1.7514e-02],\n",
       "         ...,\n",
       "         [-2.9189e-02,  1.6002e-01, -2.6610e-02,  ..., -0.0000e+00,\n",
       "          -0.0000e+00,  2.7716e-03],\n",
       "         [-1.6230e-02,  1.6784e-01, -0.0000e+00,  ..., -1.8869e-01,\n",
       "          -1.4106e-01,  0.0000e+00],\n",
       "         [-3.7913e-02,  0.0000e+00, -3.5578e-02,  ..., -1.7484e-01,\n",
       "          -1.1750e-01, -3.9640e-03]],\n",
       "\n",
       "        [[-1.2514e-02,  6.0535e-02, -9.2707e-03,  ..., -0.0000e+00,\n",
       "          -5.9806e-02, -0.0000e+00],\n",
       "         [-3.1807e-02,  8.9986e-02, -3.2557e-02,  ..., -0.0000e+00,\n",
       "          -7.6749e-02, -1.3293e-02],\n",
       "         [-0.0000e+00,  1.3417e-01, -1.1056e-02,  ..., -1.7003e-01,\n",
       "          -0.0000e+00,  8.0134e-03],\n",
       "         ...,\n",
       "         [-6.0108e-02,  1.3060e-01, -6.0238e-02,  ..., -1.6013e-01,\n",
       "          -9.1408e-02, -2.5392e-02],\n",
       "         [-2.9996e-02,  1.5281e-01, -2.9199e-02,  ..., -1.8164e-01,\n",
       "          -1.2160e-01, -6.7562e-04],\n",
       "         [-5.1710e-02,  1.3851e-01, -5.2890e-02,  ..., -1.6691e-01,\n",
       "          -9.7336e-02, -1.9602e-02]],\n",
       "\n",
       "        [[-3.2200e-03,  6.8480e-02,  1.5242e-04,  ..., -1.0460e-01,\n",
       "          -6.8402e-02,  5.8248e-03],\n",
       "         [-0.0000e+00,  9.2204e-02, -3.1229e-02,  ..., -1.3185e-01,\n",
       "          -7.8344e-02, -1.2054e-02],\n",
       "         [-0.0000e+00,  0.0000e+00, -3.5138e-02,  ..., -1.5355e-01,\n",
       "          -9.5051e-02, -1.0795e-02],\n",
       "         ...,\n",
       "         [-0.0000e+00,  1.4787e-01, -3.8905e-02,  ..., -1.7315e-01,\n",
       "          -0.0000e+00, -7.3459e-03],\n",
       "         [-4.9071e-02,  1.4118e-01, -0.0000e+00,  ..., -1.6810e-01,\n",
       "          -1.0434e-01, -1.4545e-02],\n",
       "         [-6.3305e-02,  0.0000e+00, -6.3457e-02,  ..., -1.5754e-01,\n",
       "          -8.8409e-02, -2.7833e-02]]], grad_fn=<MulBackward0>)"
      ]
     },
     "execution_count": 12,
     "metadata": {},
     "output_type": "execute_result"
    }
   ],
   "source": [
    "z"
   ]
  },
  {
   "cell_type": "code",
   "execution_count": 13,
   "metadata": {},
   "outputs": [
    {
     "data": {
      "text/plain": [
       "tensor([[[-0.0322,  0.1553, -0.0285,  ..., -0.0000, -0.1246,  0.0015],\n",
       "         [-0.0470,  0.1438, -0.0465,  ..., -0.1695, -0.1051, -0.0135],\n",
       "         [-0.0400,  0.1447, -0.0406,  ..., -0.0000, -0.1082, -0.0000],\n",
       "         ...,\n",
       "         [-0.0379,  0.1529, -0.0356,  ..., -0.1748, -0.1175, -0.0040],\n",
       "         [-0.0517,  0.1385, -0.0529,  ..., -0.1669, -0.0973, -0.0196],\n",
       "         [-0.0633,  0.1279, -0.0000,  ..., -0.1575, -0.0000, -0.0278]]],\n",
       "       grad_fn=<MulBackward0>)"
      ]
     },
     "execution_count": 13,
     "metadata": {},
     "output_type": "execute_result"
    }
   ],
   "source": [
    "h_n"
   ]
  },
  {
   "cell_type": "code",
   "execution_count": 168,
   "metadata": {},
   "outputs": [
    {
     "data": {
      "text/plain": [
       "torch.Size([128, 32])"
      ]
     },
     "execution_count": 168,
     "metadata": {},
     "output_type": "execute_result"
    }
   ],
   "source": [
    "out = z[:, -1, :]\n",
    "out.size()"
   ]
  },
  {
   "cell_type": "code",
   "execution_count": 169,
   "metadata": {},
   "outputs": [
    {
     "data": {
      "text/plain": [
       "tensor([[-0.0155, -0.0547,  0.0136,  ..., -0.0927, -0.0035, -0.1441],\n",
       "        [-0.0253, -0.0460, -0.0081,  ..., -0.0860, -0.0097, -0.1315],\n",
       "        [-0.0225, -0.0482,  0.0012,  ..., -0.0884, -0.0057, -0.1386],\n",
       "        ...,\n",
       "        [-0.0203, -0.0503,  0.0055,  ..., -0.0895, -0.0044, -0.1410],\n",
       "        [-0.0151, -0.0557,  0.0133,  ..., -0.0948, -0.0073, -0.1403],\n",
       "        [-0.0094, -0.0611,  0.0219,  ..., -0.0996, -0.0086, -0.1412]],\n",
       "       grad_fn=<SliceBackward0>)"
      ]
     },
     "execution_count": 169,
     "metadata": {},
     "output_type": "execute_result"
    }
   ],
   "source": [
    "out"
   ]
  },
  {
   "cell_type": "code",
   "execution_count": 170,
   "metadata": {},
   "outputs": [
    {
     "data": {
      "text/plain": [
       "tensor([[[-0.0155, -0.0547,  0.0136,  ..., -0.0927, -0.0035, -0.1441],\n",
       "         [-0.0253, -0.0460, -0.0081,  ..., -0.0860, -0.0097, -0.1315],\n",
       "         [-0.0225, -0.0482,  0.0012,  ..., -0.0884, -0.0057, -0.1386],\n",
       "         ...,\n",
       "         [-0.0203, -0.0503,  0.0055,  ..., -0.0895, -0.0044, -0.1410],\n",
       "         [-0.0151, -0.0557,  0.0133,  ..., -0.0948, -0.0073, -0.1403],\n",
       "         [-0.0094, -0.0611,  0.0219,  ..., -0.0996, -0.0086, -0.1412]]],\n",
       "       grad_fn=<StackBackward0>)"
      ]
     },
     "execution_count": 170,
     "metadata": {},
     "output_type": "execute_result"
    }
   ],
   "source": [
    "h_n"
   ]
  },
  {
   "cell_type": "code",
   "execution_count": 171,
   "metadata": {},
   "outputs": [
    {
     "data": {
      "text/plain": [
       "tensor([[-0.0155, -0.0547,  0.0136,  ..., -0.0927, -0.0035, -0.1441],\n",
       "        [-0.0253, -0.0460, -0.0081,  ..., -0.0860, -0.0097, -0.1315],\n",
       "        [-0.0225, -0.0482,  0.0012,  ..., -0.0884, -0.0057, -0.1386],\n",
       "        ...,\n",
       "        [-0.0203, -0.0503,  0.0055,  ..., -0.0895, -0.0044, -0.1410],\n",
       "        [-0.0151, -0.0557,  0.0133,  ..., -0.0948, -0.0073, -0.1403],\n",
       "        [-0.0094, -0.0611,  0.0219,  ..., -0.0996, -0.0086, -0.1412]],\n",
       "       grad_fn=<SqueezeBackward0>)"
      ]
     },
     "execution_count": 171,
     "metadata": {},
     "output_type": "execute_result"
    }
   ],
   "source": [
    "h_n.squeeze()"
   ]
  },
  {
   "cell_type": "code",
   "execution_count": 172,
   "metadata": {},
   "outputs": [
    {
     "data": {
      "text/plain": [
       "torch.Size([128, 32])"
      ]
     },
     "execution_count": 172,
     "metadata": {},
     "output_type": "execute_result"
    }
   ],
   "source": [
    "h_n.squeeze().shape"
   ]
  },
  {
   "cell_type": "code",
   "execution_count": 14,
   "metadata": {},
   "outputs": [],
   "source": [
    "new_h_n = h_n.squeeze()"
   ]
  },
  {
   "cell_type": "code",
   "execution_count": 15,
   "metadata": {},
   "outputs": [
    {
     "data": {
      "text/plain": [
       "(torch.Size([128, 16]), torch.Size([128, 16]))"
      ]
     },
     "execution_count": 15,
     "metadata": {},
     "output_type": "execute_result"
    }
   ],
   "source": [
    "mean = nn.Linear(32, 16)\n",
    "logvar = nn.Linear(32, 16)\n",
    "mu = mean(new_h_n)\n",
    "lv = logvar(new_h_n)\n",
    "mu.size(), lv.size()"
   ]
  },
  {
   "cell_type": "code",
   "execution_count": 16,
   "metadata": {},
   "outputs": [],
   "source": [
    "def reparametrize(mu, logvar):\n",
    "        std = torch.exp(0.5 * logvar)\n",
    "        noise = torch.randn_like(std)\n",
    "\n",
    "        z = mu + noise * std\n",
    "        return z"
   ]
  },
  {
   "cell_type": "code",
   "execution_count": 17,
   "metadata": {},
   "outputs": [
    {
     "data": {
      "text/plain": [
       "torch.Size([128, 16])"
      ]
     },
     "execution_count": 17,
     "metadata": {},
     "output_type": "execute_result"
    }
   ],
   "source": [
    "z_hat = reparametrize(mu, lv)\n",
    "z_hat.size()"
   ]
  },
  {
   "cell_type": "code",
   "execution_count": 177,
   "metadata": {},
   "outputs": [
    {
     "data": {
      "text/plain": [
       "tensor([[ 0.1239, -0.6681,  1.3902,  ...,  1.1396,  0.1375,  1.0787],\n",
       "        [ 0.9572, -0.2179, -0.6760,  ..., -1.1401, -1.0432,  2.4269],\n",
       "        [-0.1971, -1.0515, -0.3903,  ..., -1.1248, -1.8654,  0.6729],\n",
       "        ...,\n",
       "        [ 0.4748, -0.1771, -0.3092,  ...,  0.7638, -0.1938, -1.5681],\n",
       "        [-0.1943, -1.5510, -0.1938,  ...,  1.6039,  0.2258, -0.1882],\n",
       "        [ 1.1577,  0.6522, -0.4679,  ..., -0.3155, -1.4306, -1.4526]],\n",
       "       grad_fn=<AddBackward0>)"
      ]
     },
     "execution_count": 177,
     "metadata": {},
     "output_type": "execute_result"
    }
   ],
   "source": [
    "z_hat"
   ]
  },
  {
   "cell_type": "code",
   "execution_count": 18,
   "metadata": {},
   "outputs": [],
   "source": [
    "decompression = nn.Linear(16, 32)\n",
    "z_hat_n = decompression(z_hat)"
   ]
  },
  {
   "cell_type": "code",
   "execution_count": 179,
   "metadata": {},
   "outputs": [
    {
     "data": {
      "text/plain": [
       "torch.Size([128, 32])"
      ]
     },
     "execution_count": 179,
     "metadata": {},
     "output_type": "execute_result"
    }
   ],
   "source": [
    "z_hat_n.size()"
   ]
  },
  {
   "cell_type": "code",
   "execution_count": 43,
   "metadata": {},
   "outputs": [
    {
     "data": {
      "text/plain": [
       "torch.Size([128, 2304])"
      ]
     },
     "execution_count": 43,
     "metadata": {},
     "output_type": "execute_result"
    }
   ],
   "source": [
    "z_hat_n.repeat(1, 72).size()"
   ]
  },
  {
   "cell_type": "code",
   "execution_count": 19,
   "metadata": {},
   "outputs": [],
   "source": [
    "n_z = z_hat_n.reshape(128, 1, 32).repeat(1, 72, 1)"
   ]
  },
  {
   "cell_type": "code",
   "execution_count": 20,
   "metadata": {},
   "outputs": [],
   "source": [
    "class Decoder(nn.Module):\n",
    "  def __init__(self, latent_size, out_size, train_window): \n",
    "    super().__init__()\n",
    "    self.latent_size = latent_size\n",
    "    self.window = train_window\n",
    "    self.lstm = nn.LSTM(input_size=latent_size, hidden_size=latent_size, num_layers=1, batch_first=True\n",
    "            # input and output tensors are provided as (batch, seq_len, feature(size))\n",
    "        )\n",
    "    self.dropout = nn.Dropout(0.2)\n",
    "    self.output_layer = nn.Linear(latent_size, out_size)\n",
    "        \n",
    "  def forward(self, z):\n",
    "    print(z.size())\n",
    "    w, (h_n, c_n) = self.lstm(z)\n",
    "    print(\"Out D: \", w.size())\n",
    "    w = self.dropout(w)\n",
    "    out = self.output_layer(w)\n",
    "    print(\"Output D: \", out.size())\n",
    "    return out"
   ]
  },
  {
   "cell_type": "code",
   "execution_count": 21,
   "metadata": {},
   "outputs": [
    {
     "name": "stdout",
     "output_type": "stream",
     "text": [
      "torch.Size([128, 72, 32])\n",
      "Out D:  torch.Size([128, 72, 32])\n",
      "Output D:  torch.Size([128, 72, 1])\n"
     ]
    }
   ],
   "source": [
    "decoder = Decoder(32, 1, 72)\n",
    "o = decoder(n_z)"
   ]
  },
  {
   "cell_type": "code",
   "execution_count": 22,
   "metadata": {},
   "outputs": [
    {
     "data": {
      "text/plain": [
       "torch.Size([128, 72, 1])"
      ]
     },
     "execution_count": 22,
     "metadata": {},
     "output_type": "execute_result"
    }
   ],
   "source": [
    "input.size()"
   ]
  },
  {
   "cell_type": "code",
   "execution_count": 23,
   "metadata": {},
   "outputs": [
    {
     "data": {
      "text/plain": [
       "tensor([[[0.4738],\n",
       "         [0.5478],\n",
       "         [0.6249],\n",
       "         ...,\n",
       "         [0.4038],\n",
       "         [0.3498],\n",
       "         [0.6290]],\n",
       "\n",
       "        [[0.7477],\n",
       "         [0.7935],\n",
       "         [0.8323],\n",
       "         ...,\n",
       "         [0.1432],\n",
       "         [0.8405],\n",
       "         [0.1132]],\n",
       "\n",
       "        [[0.5344],\n",
       "         [0.7407],\n",
       "         [0.1542],\n",
       "         ...,\n",
       "         [0.1207],\n",
       "         [0.2378],\n",
       "         [0.6555]],\n",
       "\n",
       "        ...,\n",
       "\n",
       "        [[0.4400],\n",
       "         [0.1910],\n",
       "         [0.3655],\n",
       "         ...,\n",
       "         [0.3767],\n",
       "         [0.8441],\n",
       "         [0.2234]],\n",
       "\n",
       "        [[0.5895],\n",
       "         [0.2534],\n",
       "         [0.9562],\n",
       "         ...,\n",
       "         [0.0939],\n",
       "         [0.8792],\n",
       "         [0.0439]],\n",
       "\n",
       "        [[0.7840],\n",
       "         [0.1828],\n",
       "         [0.4411],\n",
       "         ...,\n",
       "         [0.4332],\n",
       "         [0.2575],\n",
       "         [0.0243]]])"
      ]
     },
     "execution_count": 23,
     "metadata": {},
     "output_type": "execute_result"
    }
   ],
   "source": [
    "input"
   ]
  },
  {
   "cell_type": "code",
   "execution_count": 24,
   "metadata": {},
   "outputs": [],
   "source": [
    "input_r = input.squeeze()"
   ]
  },
  {
   "cell_type": "code",
   "execution_count": 25,
   "metadata": {},
   "outputs": [],
   "source": [
    "input_r2 = input_r.reshape((128*72))"
   ]
  },
  {
   "cell_type": "code",
   "execution_count": 26,
   "metadata": {},
   "outputs": [
    {
     "data": {
      "text/plain": [
       "tensor([0.4738, 0.5478, 0.6249,  ..., 0.4332, 0.2575, 0.0243])"
      ]
     },
     "execution_count": 26,
     "metadata": {},
     "output_type": "execute_result"
    }
   ],
   "source": [
    "input_r2"
   ]
  },
  {
   "cell_type": "code",
   "execution_count": 27,
   "metadata": {},
   "outputs": [],
   "source": [
    "import matplotlib.pyplot as plt"
   ]
  },
  {
   "cell_type": "code",
   "execution_count": 28,
   "metadata": {},
   "outputs": [
    {
     "data": {
      "text/plain": [
       "[<matplotlib.lines.Line2D at 0x7f8cf8dc5d20>]"
      ]
     },
     "execution_count": 28,
     "metadata": {},
     "output_type": "execute_result"
    },
    {
     "data": {
      "image/png": "[encoded data removed]",
      "text/plain": [
       "<Figure size 640x480 with 1 Axes>"
      ]
     },
     "metadata": {},
     "output_type": "display_data"
    }
   ],
   "source": [
    "plt.plot(input_r2)"
   ]
  },
  {
   "cell_type": "code",
   "execution_count": 29,
   "metadata": {},
   "outputs": [
    {
     "data": {
      "text/plain": [
       "tensor([[[ 0.0933],\n",
       "         [ 0.2195],\n",
       "         [ 0.1775],\n",
       "         ...,\n",
       "         [ 0.2644],\n",
       "         [ 0.2670],\n",
       "         [ 0.2188]],\n",
       "\n",
       "        [[ 0.1279],\n",
       "         [ 0.1493],\n",
       "         [ 0.1581],\n",
       "         ...,\n",
       "         [ 0.0936],\n",
       "         [ 0.2003],\n",
       "         [ 0.1863]],\n",
       "\n",
       "        [[ 0.0941],\n",
       "         [ 0.1841],\n",
       "         [ 0.1624],\n",
       "         ...,\n",
       "         [ 0.1430],\n",
       "         [ 0.1320],\n",
       "         [ 0.1799]],\n",
       "\n",
       "        ...,\n",
       "\n",
       "        [[ 0.0647],\n",
       "         [ 0.0808],\n",
       "         [ 0.0203],\n",
       "         ...,\n",
       "         [-0.0981],\n",
       "         [ 0.0338],\n",
       "         [ 0.0253]],\n",
       "\n",
       "        [[ 0.1994],\n",
       "         [ 0.2479],\n",
       "         [ 0.2632],\n",
       "         ...,\n",
       "         [ 0.3516],\n",
       "         [ 0.3009],\n",
       "         [ 0.3609]],\n",
       "\n",
       "        [[ 0.1142],\n",
       "         [ 0.0762],\n",
       "         [ 0.1244],\n",
       "         ...,\n",
       "         [ 0.1615],\n",
       "         [ 0.2224],\n",
       "         [ 0.1448]]], grad_fn=<AddBackward0>)"
      ]
     },
     "execution_count": 29,
     "metadata": {},
     "output_type": "execute_result"
    }
   ],
   "source": [
    "o"
   ]
  },
  {
   "cell_type": "code",
   "execution_count": 30,
   "metadata": {},
   "outputs": [],
   "source": [
    "o_2 = o.squeeze().reshape(128*72)"
   ]
  },
  {
   "cell_type": "code",
   "execution_count": 31,
   "metadata": {},
   "outputs": [
    {
     "data": {
      "text/plain": [
       "tensor([0.0933, 0.2195, 0.1775,  ..., 0.1615, 0.2224, 0.1448],\n",
       "       grad_fn=<ReshapeAliasBackward0>)"
      ]
     },
     "execution_count": 31,
     "metadata": {},
     "output_type": "execute_result"
    }
   ],
   "source": [
    "o_2"
   ]
  },
  {
   "cell_type": "code",
   "execution_count": 32,
   "metadata": {},
   "outputs": [
    {
     "data": {
      "text/plain": [
       "[<matplotlib.lines.Line2D at 0x7f8cf8e23f10>]"
      ]
     },
     "execution_count": 32,
     "metadata": {},
     "output_type": "execute_result"
    },
    {
     "data": {
      "image/png": "[encoded data removed]",
      "text/plain": [
       "<Figure size 640x480 with 1 Axes>"
      ]
     },
     "metadata": {},
     "output_type": "display_data"
    }
   ],
   "source": [
    "plt.plot(input_r2, color = \"red\")\n",
    "plt.plot(o_2.detach().numpy(), color  =\"blue\")"
   ]
  },
  {
   "cell_type": "code",
   "execution_count": 33,
   "metadata": {},
   "outputs": [
    {
     "data": {
      "text/plain": [
       "torch.Size([128, 72, 1])"
      ]
     },
     "execution_count": 33,
     "metadata": {},
     "output_type": "execute_result"
    }
   ],
   "source": [
    "o.size()"
   ]
  },
  {
   "cell_type": "code",
   "execution_count": 34,
   "metadata": {},
   "outputs": [],
   "source": [
    "criterion = nn.MSELoss(reduction = 'mean')"
   ]
  },
  {
   "cell_type": "code",
   "execution_count": 35,
   "metadata": {},
   "outputs": [],
   "source": [
    "loss_1 = criterion(o, input)"
   ]
  },
  {
   "cell_type": "code",
   "execution_count": 36,
   "metadata": {},
   "outputs": [
    {
     "data": {
      "text/plain": [
       "tensor(0.2257, grad_fn=<MseLossBackward0>)"
      ]
     },
     "execution_count": 36,
     "metadata": {},
     "output_type": "execute_result"
    }
   ],
   "source": [
    "loss_1"
   ]
  },
  {
   "cell_type": "code",
   "execution_count": 37,
   "metadata": {},
   "outputs": [
    {
     "data": {
      "text/plain": [
       "tensor(0.2257, grad_fn=<MeanBackward0>)"
      ]
     },
     "execution_count": 37,
     "metadata": {},
     "output_type": "execute_result"
    }
   ],
   "source": [
    "torch.mean((input-o)**2)"
   ]
  },
  {
   "cell_type": "code",
   "execution_count": 38,
   "metadata": {},
   "outputs": [
    {
     "data": {
      "text/plain": [
       "tensor(23.7312, grad_fn=<MulBackward0>)"
      ]
     },
     "execution_count": 38,
     "metadata": {},
     "output_type": "execute_result"
    }
   ],
   "source": [
    "kld1 = -0.5 * torch.sum(1 + lv - mu**2 - lv.exp())\n",
    "kld1"
   ]
  },
  {
   "cell_type": "code",
   "execution_count": 39,
   "metadata": {},
   "outputs": [
    {
     "data": {
      "text/plain": [
       "tensor([0.1935, 0.1939, 0.1850, 0.1844, 0.1686, 0.1874, 0.2006, 0.1808, 0.1966,\n",
       "        0.2048, 0.1976, 0.1776, 0.1932, 0.1818, 0.1905, 0.1979, 0.1976, 0.1824,\n",
       "        0.1976, 0.1796, 0.1748, 0.1813, 0.1758, 0.1871, 0.1846, 0.1854, 0.1769,\n",
       "        0.1979, 0.1817, 0.1814, 0.1846, 0.1999, 0.1933, 0.1809, 0.1809, 0.1805,\n",
       "        0.1971, 0.1934, 0.1924, 0.1786, 0.1859, 0.1878, 0.1979, 0.1851, 0.1751,\n",
       "        0.1996, 0.1896, 0.2051, 0.1854, 0.1776, 0.1845, 0.1867, 0.1717, 0.1771,\n",
       "        0.1749, 0.1651, 0.1815, 0.1867, 0.1764, 0.1794, 0.1958, 0.1927, 0.1642,\n",
       "        0.1996, 0.1906, 0.1890, 0.1837, 0.1790, 0.1681, 0.1842, 0.1942, 0.2030,\n",
       "        0.1778, 0.1846, 0.1856, 0.1940, 0.1800, 0.1848, 0.1975, 0.2046, 0.1871,\n",
       "        0.1743, 0.1859, 0.1740, 0.1969, 0.1911, 0.1926, 0.1803, 0.1834, 0.1984,\n",
       "        0.1779, 0.1765, 0.1768, 0.2009, 0.1856, 0.1845, 0.1825, 0.1738, 0.1932,\n",
       "        0.1815, 0.1864, 0.1825, 0.1756, 0.1843, 0.2024, 0.1764, 0.1866, 0.1836,\n",
       "        0.1733, 0.1751, 0.1788, 0.1886, 0.1860, 0.1992, 0.1662, 0.1742, 0.1841,\n",
       "        0.1661, 0.1969, 0.1700, 0.1755, 0.1918, 0.1900, 0.1765, 0.1913, 0.1891,\n",
       "        0.1824, 0.1749], grad_fn=<MulBackward0>)"
      ]
     },
     "execution_count": 39,
     "metadata": {},
     "output_type": "execute_result"
    }
   ],
   "source": [
    "kld2 = -0.5 * torch.sum(1 + lv - mu**2 - lv.exp(), dim = 1)\n",
    "kld2"
   ]
  },
  {
   "cell_type": "code",
   "execution_count": 40,
   "metadata": {},
   "outputs": [
    {
     "data": {
      "text/plain": [
       "torch.Size([128])"
      ]
     },
     "execution_count": 40,
     "metadata": {},
     "output_type": "execute_result"
    }
   ],
   "source": [
    "kld2.size()"
   ]
  },
  {
   "cell_type": "code",
   "execution_count": 41,
   "metadata": {},
   "outputs": [
    {
     "data": {
      "text/plain": [
       "tensor(0.1854, grad_fn=<MeanBackward1>)"
      ]
     },
     "execution_count": 41,
     "metadata": {},
     "output_type": "execute_result"
    }
   ],
   "source": [
    "kld3 = torch.mean(-0.5 * torch.sum(1 + lv - mu**2 - lv.exp(), dim = 1), dim = 0)\n",
    "kld3"
   ]
  },
  {
   "cell_type": "code",
   "execution_count": 42,
   "metadata": {},
   "outputs": [],
   "source": [
    "kld3 /= 128 * 784"
   ]
  },
  {
   "cell_type": "code",
   "execution_count": 43,
   "metadata": {},
   "outputs": [
    {
     "data": {
      "text/plain": [
       "tensor(1.8475e-06, grad_fn=<DivBackward0>)"
      ]
     },
     "execution_count": 43,
     "metadata": {},
     "output_type": "execute_result"
    }
   ],
   "source": [
    "kld3"
   ]
  },
  {
   "cell_type": "code",
   "execution_count": 45,
   "metadata": {},
   "outputs": [
    {
     "name": "stderr",
     "output_type": "stream",
     "text": [
      "2024-05-15 15:48:21.678160: I tensorflow/core/util/port.cc:113] oneDNN custom operations are on. You may see slightly different numerical results due to floating-point round-off errors from different computation orders. To turn them off, set the environment variable `TF_ENABLE_ONEDNN_OPTS=0`.\n",
      "2024-05-15 15:48:21.697033: I external/local_tsl/tsl/cuda/cudart_stub.cc:32] Could not find cuda drivers on your machine, GPU will not be used.\n",
      "2024-05-15 15:48:21.746430: I tensorflow/core/platform/cpu_feature_guard.cc:210] This TensorFlow binary is optimized to use available CPU instructions in performance-critical operations.\n",
      "To enable the following instructions: AVX2 AVX512F AVX512_VNNI FMA, in other operations, rebuild TensorFlow with the appropriate compiler flags.\n",
      "2024-05-15 15:48:22.670077: W tensorflow/compiler/tf2tensorrt/utils/py_utils.cc:38] TF-TRT Warning: Could not find TensorRT\n"
     ]
    }
   ],
   "source": [
    "from tensorflow import keras\n",
    "import plotly.graph_objects as go\n",
    "from tensorflow.keras.models import Sequential\n",
    "from tensorflow.keras.layers import Dense, LSTM, Dropout, RepeatVector, TimeDistributed"
   ]
  },
  {
   "cell_type": "code",
   "execution_count": 47,
   "metadata": {},
   "outputs": [
    {
     "data": {
      "text/html": [
       "<pre style=\"white-space:pre;overflow-x:auto;line-height:normal;font-family:Menlo,'DejaVu Sans Mono',consolas,'Courier New',monospace\"><span style=\"font-weight: bold\">Model: \"sequential_1\"</span>\n",
       "</pre>\n"
      ],
      "text/plain": [
       "\u001b[1mModel: \"sequential_1\"\u001b[0m\n"
      ]
     },
     "metadata": {},
     "output_type": "display_data"
    },
    {
     "data": {
      "text/html": [
       "<pre style=\"white-space:pre;overflow-x:auto;line-height:normal;font-family:Menlo,'DejaVu Sans Mono',consolas,'Courier New',monospace\">┏━━━━━━━━━━━━━━━━━━━━━━━━━━━━━━━━━┳━━━━━━━━━━━━━━━━━━━━━━━━┳━━━━━━━━━━━━━━━┓\n",
       "┃<span style=\"font-weight: bold\"> Layer (type)                    </span>┃<span style=\"font-weight: bold\"> Output Shape           </span>┃<span style=\"font-weight: bold\">       Param # </span>┃\n",
       "┡━━━━━━━━━━━━━━━━━━━━━━━━━━━━━━━━━╇━━━━━━━━━━━━━━━━━━━━━━━━╇━━━━━━━━━━━━━━━┩\n",
       "│ lstm_2 (<span style=\"color: #0087ff; text-decoration-color: #0087ff\">LSTM</span>)                   │ (<span style=\"color: #00d7ff; text-decoration-color: #00d7ff\">None</span>, <span style=\"color: #00af00; text-decoration-color: #00af00\">32</span>)             │         <span style=\"color: #00af00; text-decoration-color: #00af00\">4,352</span> │\n",
       "├─────────────────────────────────┼────────────────────────┼───────────────┤\n",
       "│ dropout_2 (<span style=\"color: #0087ff; text-decoration-color: #0087ff\">Dropout</span>)             │ (<span style=\"color: #00d7ff; text-decoration-color: #00d7ff\">None</span>, <span style=\"color: #00af00; text-decoration-color: #00af00\">32</span>)             │             <span style=\"color: #00af00; text-decoration-color: #00af00\">0</span> │\n",
       "├─────────────────────────────────┼────────────────────────┼───────────────┤\n",
       "│ repeat_vector_1 (<span style=\"color: #0087ff; text-decoration-color: #0087ff\">RepeatVector</span>)  │ (<span style=\"color: #00d7ff; text-decoration-color: #00d7ff\">None</span>, <span style=\"color: #00af00; text-decoration-color: #00af00\">72</span>, <span style=\"color: #00af00; text-decoration-color: #00af00\">32</span>)         │             <span style=\"color: #00af00; text-decoration-color: #00af00\">0</span> │\n",
       "├─────────────────────────────────┼────────────────────────┼───────────────┤\n",
       "│ lstm_3 (<span style=\"color: #0087ff; text-decoration-color: #0087ff\">LSTM</span>)                   │ (<span style=\"color: #00d7ff; text-decoration-color: #00d7ff\">None</span>, <span style=\"color: #00af00; text-decoration-color: #00af00\">72</span>, <span style=\"color: #00af00; text-decoration-color: #00af00\">32</span>)         │         <span style=\"color: #00af00; text-decoration-color: #00af00\">8,320</span> │\n",
       "├─────────────────────────────────┼────────────────────────┼───────────────┤\n",
       "│ dropout_3 (<span style=\"color: #0087ff; text-decoration-color: #0087ff\">Dropout</span>)             │ (<span style=\"color: #00d7ff; text-decoration-color: #00d7ff\">None</span>, <span style=\"color: #00af00; text-decoration-color: #00af00\">72</span>, <span style=\"color: #00af00; text-decoration-color: #00af00\">32</span>)         │             <span style=\"color: #00af00; text-decoration-color: #00af00\">0</span> │\n",
       "├─────────────────────────────────┼────────────────────────┼───────────────┤\n",
       "│ time_distributed_1              │ (<span style=\"color: #00d7ff; text-decoration-color: #00d7ff\">None</span>, <span style=\"color: #00af00; text-decoration-color: #00af00\">72</span>, <span style=\"color: #00af00; text-decoration-color: #00af00\">1</span>)          │            <span style=\"color: #00af00; text-decoration-color: #00af00\">33</span> │\n",
       "│ (<span style=\"color: #0087ff; text-decoration-color: #0087ff\">TimeDistributed</span>)               │                        │               │\n",
       "└─────────────────────────────────┴────────────────────────┴───────────────┘\n",
       "</pre>\n"
      ],
      "text/plain": [
       "┏━━━━━━━━━━━━━━━━━━━━━━━━━━━━━━━━━┳━━━━━━━━━━━━━━━━━━━━━━━━┳━━━━━━━━━━━━━━━┓\n",
       "┃\u001b[1m \u001b[0m\u001b[1mLayer (type)                   \u001b[0m\u001b[1m \u001b[0m┃\u001b[1m \u001b[0m\u001b[1mOutput Shape          \u001b[0m\u001b[1m \u001b[0m┃\u001b[1m \u001b[0m\u001b[1m      Param #\u001b[0m\u001b[1m \u001b[0m┃\n",
       "┡━━━━━━━━━━━━━━━━━━━━━━━━━━━━━━━━━╇━━━━━━━━━━━━━━━━━━━━━━━━╇━━━━━━━━━━━━━━━┩\n",
       "│ lstm_2 (\u001b[38;5;33mLSTM\u001b[0m)                   │ (\u001b[38;5;45mNone\u001b[0m, \u001b[38;5;34m32\u001b[0m)             │         \u001b[38;5;34m4,352\u001b[0m │\n",
       "├─────────────────────────────────┼────────────────────────┼───────────────┤\n",
       "│ dropout_2 (\u001b[38;5;33mDropout\u001b[0m)             │ (\u001b[38;5;45mNone\u001b[0m, \u001b[38;5;34m32\u001b[0m)             │             \u001b[38;5;34m0\u001b[0m │\n",
       "├─────────────────────────────────┼────────────────────────┼───────────────┤\n",
       "│ repeat_vector_1 (\u001b[38;5;33mRepeatVector\u001b[0m)  │ (\u001b[38;5;45mNone\u001b[0m, \u001b[38;5;34m72\u001b[0m, \u001b[38;5;34m32\u001b[0m)         │             \u001b[38;5;34m0\u001b[0m │\n",
       "├─────────────────────────────────┼────────────────────────┼───────────────┤\n",
       "│ lstm_3 (\u001b[38;5;33mLSTM\u001b[0m)                   │ (\u001b[38;5;45mNone\u001b[0m, \u001b[38;5;34m72\u001b[0m, \u001b[38;5;34m32\u001b[0m)         │         \u001b[38;5;34m8,320\u001b[0m │\n",
       "├─────────────────────────────────┼────────────────────────┼───────────────┤\n",
       "│ dropout_3 (\u001b[38;5;33mDropout\u001b[0m)             │ (\u001b[38;5;45mNone\u001b[0m, \u001b[38;5;34m72\u001b[0m, \u001b[38;5;34m32\u001b[0m)         │             \u001b[38;5;34m0\u001b[0m │\n",
       "├─────────────────────────────────┼────────────────────────┼───────────────┤\n",
       "│ time_distributed_1              │ (\u001b[38;5;45mNone\u001b[0m, \u001b[38;5;34m72\u001b[0m, \u001b[38;5;34m1\u001b[0m)          │            \u001b[38;5;34m33\u001b[0m │\n",
       "│ (\u001b[38;5;33mTimeDistributed\u001b[0m)               │                        │               │\n",
       "└─────────────────────────────────┴────────────────────────┴───────────────┘\n"
      ]
     },
     "metadata": {},
     "output_type": "display_data"
    },
    {
     "data": {
      "text/html": [
       "<pre style=\"white-space:pre;overflow-x:auto;line-height:normal;font-family:Menlo,'DejaVu Sans Mono',consolas,'Courier New',monospace\"><span style=\"font-weight: bold\"> Total params: </span><span style=\"color: #00af00; text-decoration-color: #00af00\">12,705</span> (49.63 KB)\n",
       "</pre>\n"
      ],
      "text/plain": [
       "\u001b[1m Total params: \u001b[0m\u001b[38;5;34m12,705\u001b[0m (49.63 KB)\n"
      ]
     },
     "metadata": {},
     "output_type": "display_data"
    },
    {
     "data": {
      "text/html": [
       "<pre style=\"white-space:pre;overflow-x:auto;line-height:normal;font-family:Menlo,'DejaVu Sans Mono',consolas,'Courier New',monospace\"><span style=\"font-weight: bold\"> Trainable params: </span><span style=\"color: #00af00; text-decoration-color: #00af00\">12,705</span> (49.63 KB)\n",
       "</pre>\n"
      ],
      "text/plain": [
       "\u001b[1m Trainable params: \u001b[0m\u001b[38;5;34m12,705\u001b[0m (49.63 KB)\n"
      ]
     },
     "metadata": {},
     "output_type": "display_data"
    },
    {
     "data": {
      "text/html": [
       "<pre style=\"white-space:pre;overflow-x:auto;line-height:normal;font-family:Menlo,'DejaVu Sans Mono',consolas,'Courier New',monospace\"><span style=\"font-weight: bold\"> Non-trainable params: </span><span style=\"color: #00af00; text-decoration-color: #00af00\">0</span> (0.00 B)\n",
       "</pre>\n"
      ],
      "text/plain": [
       "\u001b[1m Non-trainable params: \u001b[0m\u001b[38;5;34m0\u001b[0m (0.00 B)\n"
      ]
     },
     "metadata": {},
     "output_type": "display_data"
    }
   ],
   "source": [
    "###LSTM AUTOENCODER\n",
    "model_lstm = keras.Sequential()\n",
    "model_lstm.add(keras.layers.LSTM(\n",
    "    units=32,#normally is 64\n",
    "    input_shape=(72, 1)\n",
    "))\n",
    "model_lstm.add(keras.layers.Dropout(rate=0.2))\n",
    "model_lstm.add(keras.layers.RepeatVector(n=72))\n",
    "model_lstm.add(keras.layers.LSTM(units=32, return_sequences=True))\n",
    "model_lstm.add(keras.layers.Dropout(rate=0.2))\n",
    "model_lstm.add(\n",
    "  keras.layers.TimeDistributed(\n",
    "    keras.layers.Dense(units=1)\n",
    "  )\n",
    ")\n",
    "model_lstm.compile(loss='mae', optimizer='adam')\n",
    "model_lstm.summary()"
   ]
  },
  {
   "cell_type": "code",
   "execution_count": 109,
   "metadata": {},
   "outputs": [
    {
     "name": "stderr",
     "output_type": "stream",
     "text": [
      "/nfs/home/medoro/Unsupervised_Anomaly_Detection_thesis/.venv/lib/python3.10/site-packages/keras/src/layers/rnn/rnn.py:204: UserWarning: Do not pass an `input_shape`/`input_dim` argument to a layer. When using Sequential models, prefer using an `Input(shape)` object as the first layer in the model instead.\n",
      "  super().__init__(**kwargs)\n"
     ]
    },
    {
     "data": {
      "text/plain": [
       "<tf.Tensor: shape=(128, 32), dtype=float32, numpy=\n",
       "array([[ 0.01095152,  0.05029638,  0.0117331 , ..., -0.01372467,\n",
       "         0.04322131, -0.04937713],\n",
       "       [ 0.01948896,  0.07006595,  0.00670312, ..., -0.01581299,\n",
       "         0.05228005, -0.05244847],\n",
       "       [ 0.00960909,  0.04594861,  0.01023959, ..., -0.01263437,\n",
       "         0.04680898, -0.05281333],\n",
       "       ...,\n",
       "       [ 0.01249318,  0.05044529,  0.00377025, ..., -0.01052159,\n",
       "         0.05293587, -0.05383182],\n",
       "       [ 0.01245422,  0.05292718,  0.00826422, ..., -0.01307194,\n",
       "         0.05195176, -0.05691139],\n",
       "       [ 0.00582008,  0.03305991,  0.00994779, ..., -0.01062722,\n",
       "         0.03387479, -0.03946306]], dtype=float32)>"
      ]
     },
     "execution_count": 109,
     "metadata": {},
     "output_type": "execute_result"
    }
   ],
   "source": [
    "output = keras.layers.LSTM(units=32, input_shape=(72, 1))(input1)\n",
    "output"
   ]
  },
  {
   "cell_type": "code",
   "execution_count": 82,
   "metadata": {},
   "outputs": [
    {
     "data": {
      "text/plain": [
       "tensor([[[ 0.0870,  0.0484, -0.0285,  ...,  0.0736,  0.0533, -0.0347],\n",
       "         [ 0.0900,  0.0515, -0.0321,  ...,  0.0766,  0.0533, -0.0397],\n",
       "         [ 0.0865,  0.0542, -0.0278,  ...,  0.0783,  0.0479, -0.0342],\n",
       "         ...,\n",
       "         [ 0.0875,  0.0477, -0.0291,  ...,  0.0735,  0.0541, -0.0359],\n",
       "         [ 0.0744,  0.0515, -0.0116,  ...,  0.0751,  0.0382, -0.0167],\n",
       "         [ 0.0856,  0.0505, -0.0265,  ...,  0.0753,  0.0497, -0.0331]]],\n",
       "       grad_fn=<StackBackward0>)"
      ]
     },
     "execution_count": 82,
     "metadata": {},
     "output_type": "execute_result"
    }
   ],
   "source": [
    "h_n"
   ]
  },
  {
   "cell_type": "code",
   "execution_count": 51,
   "metadata": {},
   "outputs": [
    {
     "data": {
      "text/plain": [
       "TensorShape([128, 3, 32])"
      ]
     },
     "execution_count": 51,
     "metadata": {},
     "output_type": "execute_result"
    }
   ],
   "source": [
    "\n",
    "y = keras.layers.RepeatVector(3)(z_hat_n.detach().numpy())\n",
    "y.shape"
   ]
  },
  {
   "cell_type": "code",
   "execution_count": 56,
   "metadata": {},
   "outputs": [],
   "source": [
    "a = z_hat_n.reshape(128, 1, 32).repeat(1, 3, 1)"
   ]
  },
  {
   "cell_type": "code",
   "execution_count": 57,
   "metadata": {},
   "outputs": [],
   "source": [
    "b = z_hat_n.repeat(1, 3).reshape(128, 3, 32)"
   ]
  },
  {
   "cell_type": "code",
   "execution_count": 59,
   "metadata": {},
   "outputs": [
    {
     "data": {
      "text/plain": [
       "tensor(12288)"
      ]
     },
     "execution_count": 59,
     "metadata": {},
     "output_type": "execute_result"
    }
   ],
   "source": [
    "(a == b).sum()"
   ]
  },
  {
   "cell_type": "code",
   "execution_count": 62,
   "metadata": {},
   "outputs": [
    {
     "data": {
      "text/plain": [
       "12288"
      ]
     },
     "execution_count": 62,
     "metadata": {},
     "output_type": "execute_result"
    }
   ],
   "source": [
    "np.sum(a.detach().numpy() == y)"
   ]
  },
  {
   "cell_type": "code",
   "execution_count": 52,
   "metadata": {},
   "outputs": [
    {
     "data": {
      "text/plain": [
       "<tf.Tensor: shape=(128, 3, 32), dtype=float32, numpy=\n",
       "array([[[-0.97382516, -0.2587822 ,  0.530458  , ..., -0.35077804,\n",
       "          0.00958964,  0.9750483 ],\n",
       "        [-0.97382516, -0.2587822 ,  0.530458  , ..., -0.35077804,\n",
       "          0.00958964,  0.9750483 ],\n",
       "        [-0.97382516, -0.2587822 ,  0.530458  , ..., -0.35077804,\n",
       "          0.00958964,  0.9750483 ]],\n",
       "\n",
       "       [[ 0.76501423, -0.82421774, -0.87176156, ...,  0.24872535,\n",
       "         -0.5217805 ,  0.5870452 ],\n",
       "        [ 0.76501423, -0.82421774, -0.87176156, ...,  0.24872535,\n",
       "         -0.5217805 ,  0.5870452 ],\n",
       "        [ 0.76501423, -0.82421774, -0.87176156, ...,  0.24872535,\n",
       "         -0.5217805 ,  0.5870452 ]],\n",
       "\n",
       "       [[-0.14971618, -0.49785942, -0.7724875 , ..., -0.54019177,\n",
       "          0.36706734,  0.24303234],\n",
       "        [-0.14971618, -0.49785942, -0.7724875 , ..., -0.54019177,\n",
       "          0.36706734,  0.24303234],\n",
       "        [-0.14971618, -0.49785942, -0.7724875 , ..., -0.54019177,\n",
       "          0.36706734,  0.24303234]],\n",
       "\n",
       "       ...,\n",
       "\n",
       "       [[-0.59614   , -0.27407572, -0.1915957 , ...,  0.22746593,\n",
       "         -0.14438832,  0.988251  ],\n",
       "        [-0.59614   , -0.27407572, -0.1915957 , ...,  0.22746593,\n",
       "         -0.14438832,  0.988251  ],\n",
       "        [-0.59614   , -0.27407572, -0.1915957 , ...,  0.22746593,\n",
       "         -0.14438832,  0.988251  ]],\n",
       "\n",
       "       [[-0.7777273 ,  0.11408092,  0.19671035, ...,  0.7624484 ,\n",
       "         -1.1166939 ,  0.93562484],\n",
       "        [-0.7777273 ,  0.11408092,  0.19671035, ...,  0.7624484 ,\n",
       "         -1.1166939 ,  0.93562484],\n",
       "        [-0.7777273 ,  0.11408092,  0.19671035, ...,  0.7624484 ,\n",
       "         -1.1166939 ,  0.93562484]],\n",
       "\n",
       "       [[-0.76513064,  0.1294843 ,  0.9401679 , ...,  0.44509584,\n",
       "         -1.6332536 , -0.23580489],\n",
       "        [-0.76513064,  0.1294843 ,  0.9401679 , ...,  0.44509584,\n",
       "         -1.6332536 , -0.23580489],\n",
       "        [-0.76513064,  0.1294843 ,  0.9401679 , ...,  0.44509584,\n",
       "         -1.6332536 , -0.23580489]]], dtype=float32)>"
      ]
     },
     "execution_count": 52,
     "metadata": {},
     "output_type": "execute_result"
    }
   ],
   "source": [
    "y"
   ]
  },
  {
   "cell_type": "code",
   "execution_count": 63,
   "metadata": {},
   "outputs": [],
   "source": [
    "new = z_hat_n.reshape(128, 1, 32).repeat(1, 72, 1)"
   ]
  },
  {
   "cell_type": "code",
   "execution_count": null,
   "metadata": {},
   "outputs": [],
   "source": []
  },
  {
   "cell_type": "code",
   "execution_count": null,
   "metadata": {},
   "outputs": [],
   "source": []
  },
  {
   "cell_type": "code",
   "execution_count": null,
   "metadata": {},
   "outputs": [],
   "source": []
  }
 ],
 "metadata": {
  "kernelspec": {
   "display_name": ".venv",
   "language": "python",
   "name": "python3"
  },
  "language_info": {
   "codemirror_mode": {
    "name": "ipython",
    "version": 3
   },
   "file_extension": ".py",
   "mimetype": "text/x-python",
   "name": "python",
   "nbconvert_exporter": "python",
   "pygments_lexer": "ipython3",
   "version": "3.10.12"
  }
 },
 "nbformat": 4,
 "nbformat_minor": 2
}
